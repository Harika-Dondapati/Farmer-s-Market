{
 "cells": [
  {
   "cell_type": "code",
   "execution_count": null,
   "metadata": {},
   "outputs": [],
   "source": []
  },
  {
   "cell_type": "code",
   "execution_count": null,
   "metadata": {},
   "outputs": [],
   "source": [
    "from numpy import array \n",
    "from numpy import mean \n",
    "from numpy import cov \n",
    "from numpy.linalg import eig \n",
    "A=array([(2,1),(3,4),(5,0),(7,6),(9,2)])\n",
    "print(A)\n",
    "M=mean(A.T,axis=1)\n",
    "print(M)\n",
    "C=A-M\n",
    "print(C)\n",
    "V=cov(C.T)\n",
    "print(V)\n",
    "values, vectors=eig(V)\n",
    "print(vectors) \n",
    "print(values)\n",
    "p=vectors.T.dot(C.T)\n",
    "print(p.T)"
   ]
  },
  {
   "cell_type": "code",
   "execution_count": null,
   "metadata": {},
   "outputs": [],
   "source": []
  }
 ],
 "metadata": {
  "kernelspec": {
   "display_name": "Python 3",
   "language": "python",
   "name": "python3"
  },
  "language_info": {
   "codemirror_mode": {
    "name": "ipython",
    "version": 3
   },
   "file_extension": ".py",
   "mimetype": "text/x-python",
   "name": "python",
   "nbconvert_exporter": "python",
   "pygments_lexer": "ipython3",
   "version": "3.7.0"
  }
 },
 "nbformat": 4,
 "nbformat_minor": 2
}
